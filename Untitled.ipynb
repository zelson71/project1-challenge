{
 "cells": [
  {
   "cell_type": "markdown",
   "metadata": {},
   "source": [
    "###### Importing Libraries we need"
   ]
  },
  {
   "cell_type": "code",
   "execution_count": 1,
   "metadata": {},
   "outputs": [],
   "source": [
    "import json\n",
    "import csv\n",
    "import requests\n",
    "from pprint import pprint\n",
    "import pandas as pd\n",
    "import matplotlib.pyplot as plt\n",
    "import numpy as np\n",
    "import time\n",
    "import scipy.stats as st\n",
    "from scipy.stats import linregress\n",
    "from IPython.display import clear_output\n",
    "import pandas as pd\n",
    "import plotly\n",
    "import plotly.express as px\n",
    "import plotly.offline as py\n",
    "import plotly.graph_objs as go\n",
    "import statsmodels"
   ]
  },
  {
   "cell_type": "markdown",
   "metadata": {},
   "source": [
    "###### went to https://crashviewer.nhtsa.dot.gov/CrashAPI and got the list of states and built a dictionary off of it"
   ]
  },
  {
   "cell_type": "code",
   "execution_count": 2,
   "metadata": {},
   "outputs": [],
   "source": [
    "state_id = {1:[\"Alabama\",\"AL\"],\n",
    "            2:[\"Alaska\",\"AK\"],\n",
    "            4:[\"Arizona\",\"AZ\"],\n",
    "            5:[\"Arkansas\",\"AR\"],\n",
    "            6:[\"California\",\"CA\"],\n",
    "            8:[\"Colorado\",\"CO\"],\n",
    "            9:[\"Conneticut\",\"CT\"],\n",
    "            10:[\"Delaware\", \"DE\"],\n",
    "            11:[\"District of Columbia\",\"DC\"],\n",
    "            12:[\"Florida\",\"FL\"],\n",
    "            13:[\"Georgia\", \"GA\"],\n",
    "            15:[\"Hawaii\",\"HI\"],\n",
    "            16:[\"Idaho\",\"ID\"],\n",
    "            17:[\"Illinois\",\"IL\"],\n",
    "            18:[\"Indiana\",\"IN\"],\n",
    "            19:[\"Iowa\", \"IA\"],\n",
    "            20:[\"Kansas\", \"KS\"],\n",
    "            21:[\"Kentucky\",\"KY\"],\n",
    "            22:[\"Louisiana\",\"LA\"],\n",
    "            23:[\"Maine\",\"ME\"],\n",
    "            24:[\"Maryland\",\"MD\"],\n",
    "            25:[\"Massachusetts\",\"MA\"],\n",
    "            26:[\"Michigan\",\"MI\"],\n",
    "            27:[\"Minnesota\",\"MN\"],\n",
    "            28:[\"Mississippi\",\"MS\"],\n",
    "            29:[\"Missouri\",\"MO\"],\n",
    "            30:[\"Montana\",\"MT\"],\n",
    "            31:[\"Nebraska\",\"NB\"],\n",
    "            32:[\"Nevada\",\"NV\"],\n",
    "            33:[\"New Hampshire\",\"NH\"],\n",
    "            34:[\"New Jersey\",\"NJ\"],\n",
    "            35:[\"New Mexico\",\"NM\"],\n",
    "            36:[\"New York\",\"NY\"],\n",
    "            37:[\"North Carolina\",\"NC\"],\n",
    "            38:[\"North Dakota\",\"ND\"],\n",
    "            39:[\"Ohio\",\"OH\"],\n",
    "            40:[\"Oklahoma\",\"OK\"],\n",
    "            41:[\"Oregon\",\"OR\"],\n",
    "            42:[\"Pennsylvania\",\"PA\"],\n",
    "            43:\"Puerto Rico\",\n",
    "            44:[\"Rhode Island\",\"RI\"],\n",
    "            45:[\"South Carolina\",\"SC\"],\n",
    "            46:[\"South Dakota\",\"SD\"],\n",
    "            47:[\"Tennessee\",\"TN\"],\n",
    "            48:[\"Texas\",\"TX\"],\n",
    "            49:[\"Utah\",\"UT\"],\n",
    "            50:[\"Vermont\",\"VT\"],\n",
    "            51:[\"Virginia\",\"VA\"],\n",
    "            52:\"Virgin Islands\",\n",
    "            53:[\"Washington\", \"WA\"],\n",
    "            54:[\"West Virginia\",\"WV\"],\n",
    "            55:[\"Wisconsin\",\"WI\"],\n",
    "            56:[\"Wyoming\",\"WY\"]}\n"
   ]
  },
  {
   "cell_type": "markdown",
   "metadata": {},
   "source": [
    "###### Create a while loop for user input"
   ]
  },
  {
   "cell_type": "code",
   "execution_count": 3,
   "metadata": {},
   "outputs": [
    {
     "name": "stdout",
     "output_type": "stream",
     "text": [
      "By default there is\n",
      " ['6', '8', '12', '17', '36', '39', '42', '48'] \n",
      " ['California', 'Colorado', 'Florida', 'Illinois', 'New York', 'Ohio', 'Pennsylvania', 'Texas']\n",
      "8\n",
      "there is a limit of 10 states \n",
      "Please input the state you are interested in getting Data for by Name or code (ex : CO for Colorado). if you are done type donedone\n",
      "You added ['California', 'Colorado', 'Florida', 'Illinois', 'New York', 'Ohio', 'Pennsylvania', 'Texas'] to the list\n"
     ]
    }
   ],
   "source": [
    "state_list=[\"6\",\"8\",\"12\",\"17\",\"36\",\"39\",\"42\",\"48\"]\n",
    "state_name_list = [\"California\",\"Colorado\", \"Florida\", \"Illinois\", \"New York\", \"Ohio\",\"Pennsylvania\",\"Texas\"]\n",
    "inquiry = str\n",
    "while inquiry != \"done\" or inquiry != \"\" or  (len(state_name_list)) == '10':\n",
    "    print(f\"By default there is\\n {state_list} \\n {state_name_list}\")\n",
    "    print(len(state_name_list))\n",
    "    print(\"there is a limit of 10 states \")\n",
    "    inquiry = input(\"Please input the state you are interested in getting Data for by Name or code (ex : CO for Colorado). if you are done type done\")\n",
    "    \n",
    "    if inquiry == \"done\":\n",
    "                    break\n",
    "    elif len(state_name_list) == 9:\n",
    "        for i in state_id:\n",
    "                        if inquiry == state_id[i][0] or inquiry == state_id[i][1]:\n",
    "                            state_num = i\n",
    "                            state_list.append(state_num)\n",
    "                            state_name_list.append(inquiry)\n",
    "                            print(f\"{inquiry} added\")\n",
    "                            clear_output()\n",
    "        break\n",
    "        \n",
    "    else:\n",
    "                    for i in state_id:\n",
    "                        if inquiry == state_id[i][0] or inquiry == state_id[i][1]:\n",
    "                            state_num = i\n",
    "                            state_list.append(state_num)\n",
    "                            state_name_list.append(inquiry)\n",
    "                            print(f\"{inquiry} added\")\n",
    "                            clear_output()\n",
    "                    \n",
    "print(f\"You added {state_name_list} to the list\")"
   ]
  },
  {
   "cell_type": "markdown",
   "metadata": {},
   "source": [
    "###### Get Results for selected states in JSON format"
   ]
  },
  {
   "cell_type": "code",
   "execution_count": 71,
   "metadata": {},
   "outputs": [],
   "source": [
    "# collect query results for selected states\n",
    "url = \"https://crashviewer.nhtsa.dot.gov/CrashAPI/analytics/GetInjurySeverityCounts?\"\n",
    "FromYear = \"2008\"\n",
    "ToYear = \"2018\"\n",
    "Results2 = []\n",
    "result ={}\n",
    "count = 0\n",
    "\n",
    "for State in state_list:\n",
    "    query_url = url + \"fromCaseYear=\" + FromYear + \"&toCaseYear=\" + ToYear + \"&state=\" + State + \"&county=\" + \"&format=json\"\n",
    "    response = requests.get(query_url).json()\n",
    "    Results2.append(response[\"Results\"][0])\n"
   ]
  },
  {
   "cell_type": "code",
   "execution_count": 79,
   "metadata": {},
   "outputs": [
    {
     "name": "stdout",
     "output_type": "stream",
     "text": [
      "Processing Record 1 of Set 1 | 6\n",
      "{'Count': 9, 'Message': 'Results returned successfully', 'Results': [[{'CaseYear': '2010', 'CrashCounts': 2504, 'TotalFatalCounts': 2720}, {'CaseYear': '2011', 'CrashCounts': 2617, 'TotalFatalCounts': 2816}, {'CaseYear': '2012', 'CrashCounts': 2733, 'TotalFatalCounts': 2966}, {'CaseYear': '2013', 'CrashCounts': 2860, 'TotalFatalCounts': 3107}, {'CaseYear': '2014', 'CrashCounts': 2859, 'TotalFatalCounts': 3102}, {'CaseYear': '2015', 'CrashCounts': 3123, 'TotalFatalCounts': 3387}, {'CaseYear': '2016', 'CrashCounts': 3540, 'TotalFatalCounts': 3837}, {'CaseYear': '2017', 'CrashCounts': 3569, 'TotalFatalCounts': 3884}, {'CaseYear': '2018', 'CrashCounts': 3259, 'TotalFatalCounts': 3563}]], 'SearchCriteria': 'FromYear: 2008 | ToYear: 2018 | State: 6'}\n",
      "Something went horrible wrong\n",
      "Processing Record 2 of Set 1 | 8\n",
      "{'Count': 9, 'Message': 'Results returned successfully', 'Results': [[{'CaseYear': '2010', 'CrashCounts': 411, 'TotalFatalCounts': 450}, {'CaseYear': '2011', 'CrashCounts': 407, 'TotalFatalCounts': 447}, {'CaseYear': '2012', 'CrashCounts': 434, 'TotalFatalCounts': 474}, {'CaseYear': '2013', 'CrashCounts': 432, 'TotalFatalCounts': 482}, {'CaseYear': '2014', 'CrashCounts': 451, 'TotalFatalCounts': 488}, {'CaseYear': '2015', 'CrashCounts': 507, 'TotalFatalCounts': 547}, {'CaseYear': '2016', 'CrashCounts': 558, 'TotalFatalCounts': 608}, {'CaseYear': '2017', 'CrashCounts': 600, 'TotalFatalCounts': 648}, {'CaseYear': '2018', 'CrashCounts': 588, 'TotalFatalCounts': 632}]], 'SearchCriteria': 'FromYear: 2008 | ToYear: 2018 | State: 8'}\n",
      "Something went horrible wrong\n",
      "Processing Record 3 of Set 1 | 12\n",
      "{'Count': 9, 'Message': 'Results returned successfully', 'Results': [[{'CaseYear': '2010', 'CrashCounts': 2261, 'TotalFatalCounts': 2444}, {'CaseYear': '2011', 'CrashCounts': 2212, 'TotalFatalCounts': 2400}, {'CaseYear': '2012', 'CrashCounts': 2253, 'TotalFatalCounts': 2431}, {'CaseYear': '2013', 'CrashCounts': 2223, 'TotalFatalCounts': 2403}, {'CaseYear': '2014', 'CrashCounts': 2336, 'TotalFatalCounts': 2494}, {'CaseYear': '2015', 'CrashCounts': 2699, 'TotalFatalCounts': 2938}, {'CaseYear': '2016', 'CrashCounts': 2935, 'TotalFatalCounts': 3176}, {'CaseYear': '2017', 'CrashCounts': 2925, 'TotalFatalCounts': 3116}, {'CaseYear': '2018', 'CrashCounts': 2915, 'TotalFatalCounts': 3133}]], 'SearchCriteria': 'FromYear: 2008 | ToYear: 2018 | State: 12'}\n",
      "Something went horrible wrong\n",
      "Processing Record 4 of Set 1 | 17\n",
      "{'Count': 9, 'Message': 'Results returned successfully', 'Results': [[{'CaseYear': '2010', 'CrashCounts': 858, 'TotalFatalCounts': 927}, {'CaseYear': '2011', 'CrashCounts': 835, 'TotalFatalCounts': 918}, {'CaseYear': '2012', 'CrashCounts': 886, 'TotalFatalCounts': 956}, {'CaseYear': '2013', 'CrashCounts': 895, 'TotalFatalCounts': 991}, {'CaseYear': '2014', 'CrashCounts': 845, 'TotalFatalCounts': 924}, {'CaseYear': '2015', 'CrashCounts': 914, 'TotalFatalCounts': 998}, {'CaseYear': '2016', 'CrashCounts': 1000, 'TotalFatalCounts': 1078}, {'CaseYear': '2017', 'CrashCounts': 998, 'TotalFatalCounts': 1090}, {'CaseYear': '2018', 'CrashCounts': 948, 'TotalFatalCounts': 1031}]], 'SearchCriteria': 'FromYear: 2008 | ToYear: 2018 | State: 17'}\n",
      "Something went horrible wrong\n",
      "Processing Record 5 of Set 1 | 36\n",
      "{'Count': 9, 'Message': 'Results returned successfully', 'Results': [[{'CaseYear': '2010', 'CrashCounts': 1128, 'TotalFatalCounts': 1201}, {'CaseYear': '2011', 'CrashCounts': 1093, 'TotalFatalCounts': 1171}, {'CaseYear': '2012', 'CrashCounts': 1096, 'TotalFatalCounts': 1180}, {'CaseYear': '2013', 'CrashCounts': 1124, 'TotalFatalCounts': 1202}, {'CaseYear': '2014', 'CrashCounts': 980, 'TotalFatalCounts': 1041}, {'CaseYear': '2015', 'CrashCounts': 1061, 'TotalFatalCounts': 1136}, {'CaseYear': '2016', 'CrashCounts': 981, 'TotalFatalCounts': 1041}, {'CaseYear': '2017', 'CrashCounts': 939, 'TotalFatalCounts': 1006}, {'CaseYear': '2018', 'CrashCounts': 889, 'TotalFatalCounts': 943}]], 'SearchCriteria': 'FromYear: 2008 | ToYear: 2018 | State: 36'}\n",
      "Something went horrible wrong\n",
      "Processing Record 6 of Set 1 | 39\n",
      "{'Count': 9, 'Message': 'Results returned successfully', 'Results': [[{'CaseYear': '2010', 'CrashCounts': 984, 'TotalFatalCounts': 1080}, {'CaseYear': '2011', 'CrashCounts': 942, 'TotalFatalCounts': 1017}, {'CaseYear': '2012', 'CrashCounts': 1022, 'TotalFatalCounts': 1121}, {'CaseYear': '2013', 'CrashCounts': 917, 'TotalFatalCounts': 989}, {'CaseYear': '2014', 'CrashCounts': 917, 'TotalFatalCounts': 1006}, {'CaseYear': '2015', 'CrashCounts': 1029, 'TotalFatalCounts': 1110}, {'CaseYear': '2016', 'CrashCounts': 1053, 'TotalFatalCounts': 1132}, {'CaseYear': '2017', 'CrashCounts': 1094, 'TotalFatalCounts': 1179}, {'CaseYear': '2018', 'CrashCounts': 996, 'TotalFatalCounts': 1068}]], 'SearchCriteria': 'FromYear: 2008 | ToYear: 2018 | State: 39'}\n",
      "Something went horrible wrong\n",
      "Processing Record 7 of Set 1 | 42\n",
      "{'Count': 9, 'Message': 'Results returned successfully', 'Results': [[{'CaseYear': '2010', 'CrashCounts': 1208, 'TotalFatalCounts': 1324}, {'CaseYear': '2011', 'CrashCounts': 1191, 'TotalFatalCounts': 1286}, {'CaseYear': '2012', 'CrashCounts': 1211, 'TotalFatalCounts': 1310}, {'CaseYear': '2013', 'CrashCounts': 1119, 'TotalFatalCounts': 1210}, {'CaseYear': '2014', 'CrashCounts': 1107, 'TotalFatalCounts': 1195}, {'CaseYear': '2015', 'CrashCounts': 1102, 'TotalFatalCounts': 1200}, {'CaseYear': '2016', 'CrashCounts': 1088, 'TotalFatalCounts': 1188}, {'CaseYear': '2017', 'CrashCounts': 1083, 'TotalFatalCounts': 1137}, {'CaseYear': '2018', 'CrashCounts': 1103, 'TotalFatalCounts': 1190}]], 'SearchCriteria': 'FromYear: 2008 | ToYear: 2018 | State: 42'}\n",
      "Something went horrible wrong\n",
      "Processing Record 8 of Set 1 | 48\n",
      "{'Count': 9, 'Message': 'Results returned successfully', 'Results': [[{'CaseYear': '2010', 'CrashCounts': 2746, 'TotalFatalCounts': 3023}, {'CaseYear': '2011', 'CrashCounts': 2790, 'TotalFatalCounts': 3054}, {'CaseYear': '2012', 'CrashCounts': 3033, 'TotalFatalCounts': 3408}, {'CaseYear': '2013', 'CrashCounts': 3047, 'TotalFatalCounts': 3389}, {'CaseYear': '2014', 'CrashCounts': 3190, 'TotalFatalCounts': 3536}, {'CaseYear': '2015', 'CrashCounts': 3190, 'TotalFatalCounts': 3582}, {'CaseYear': '2016', 'CrashCounts': 3427, 'TotalFatalCounts': 3797}, {'CaseYear': '2017', 'CrashCounts': 3352, 'TotalFatalCounts': 3732}, {'CaseYear': '2018', 'CrashCounts': 3305, 'TotalFatalCounts': 3642}]], 'SearchCriteria': 'FromYear: 2008 | ToYear: 2018 | State: 48'}\n",
      "Something went horrible wrong\n",
      "-----------------------------\n",
      "Data Retrieval Complete      \n",
      "-----------------------------\n"
     ]
    },
    {
     "data": {
      "text/plain": [
       "[]"
      ]
     },
     "execution_count": 79,
     "metadata": {},
     "output_type": "execute_result"
    }
   ],
   "source": [
    "record_count = 1\n",
    "set_count = 1\n",
    "# Loop through all the cities in our list\n",
    "crash_data=[]\n",
    "url = \"https://crashviewer.nhtsa.dot.gov/CrashAPI/analytics/GetInjurySeverityCounts?\"\n",
    "for i, State in enumerate(state_list):\n",
    "        \n",
    "    # Group cities in sets of 50 for logging purposes\n",
    "    if (i % 50 == 0 and i >= 50):\n",
    "        set_count += 1\n",
    "        record_count = 0\n",
    "    # Create endpoint URL with each city\n",
    "    query_url = (f\"{url}fromCaseYear={FromYear}&toCaseYear={ToYear}&state={State}&county=&format=json\")\n",
    "    \n",
    "    # Log the url, record, and set numbers\n",
    "    print(\"Processing Record %s of Set %s | %s\" % (record_count, set_count, State))\n",
    "    # Add 1 to the record count\n",
    "    record_count += 1\n",
    "    # Run an API request for each of the cities\n",
    "    try:\n",
    "        # Parse the JSON and retrieve data\n",
    "        state_data = requests.get(query_url).json()\n",
    "        print(state_data)\n",
    "        # Parse out the CaseYear, CrashCounts, and TotalFatalCounts\n",
    "        caseY = state_data[\"Results\"][0][\"CaseYear\"]\n",
    "        print(caseY)\n",
    "        crashC = state_data[\"CrashCounts\"]\n",
    "        print(caseY)\n",
    "        totFat = statedata[\"CrashCounts\"]\n",
    "        print(totFat)\n",
    "        state = ['State']\n",
    "        print(state)\n",
    "        # Append the City information into city_data list\n",
    "        crash_data.append({\"State\": state,\n",
    "                           \"Year\":caseY,\n",
    "                          \"Crash Count\": crashC, \n",
    "                          \"Total Fatalities\": totFat})\n",
    "        \n",
    "    except:\n",
    "        print(\"Something went horrible wrong\" )\n",
    "        pass\n",
    "# Indicate that Data Loading is complete \n",
    "print(\"-----------------------------\")\n",
    "print(\"Data Retrieval Complete      \")\n",
    "print(\"-----------------------------\") \n",
    "crash_data"
   ]
  },
  {
   "cell_type": "markdown",
   "metadata": {},
   "source": [
    "###### Build a series of the Data"
   ]
  },
  {
   "cell_type": "code",
   "execution_count": 33,
   "metadata": {},
   "outputs": [
    {
     "name": "stdout",
     "output_type": "stream",
     "text": [
      "[{'CaseYear': '2010', 'CrashCounts': 2504, 'TotalFatalCounts': 2720}, {'CaseYear': '2011', 'CrashCounts': 407, 'TotalFatalCounts': 447}, {'CaseYear': '2012', 'CrashCounts': 2253, 'TotalFatalCounts': 2431}, {'CaseYear': '2013', 'CrashCounts': 895, 'TotalFatalCounts': 991}, {'CaseYear': '2014', 'CrashCounts': 980, 'TotalFatalCounts': 1041}, {'CaseYear': '2015', 'CrashCounts': 1029, 'TotalFatalCounts': 1110}, {'CaseYear': '2016', 'CrashCounts': 1088, 'TotalFatalCounts': 1188}, {'CaseYear': '2017', 'CrashCounts': 3352, 'TotalFatalCounts': 3732}]\n"
     ]
    }
   ],
   "source": [
    "State_Results = []\n",
    "counter = 0\n",
    "for i in [i for i,x in enumerate(state_list)]:\n",
    "    State_Results.append(Results2[counter])\n",
    "    counter += 1\n",
    "#State_Results\n",
    "print(f\"{State_Results}\")\n"
   ]
  },
  {
   "cell_type": "markdown",
   "metadata": {},
   "source": [
    "###### Build a Dictionary of the data with State Name as  the key "
   ]
  },
  {
   "cell_type": "code",
   "execution_count": 25,
   "metadata": {},
   "outputs": [],
   "source": [
    "#predf=dict(zip(state_name_list, Results2))\n",
    "df_dict={}\n",
    "counter = 0\n",
    "for i,name in enumerate(state_name_list):\n",
    "    df_dict = pd.DataFrame(Results2[i])\n",
    "#     counter += 1\n",
    "    \n",
    "# predf = {state_name_list[i]: Results2[i] for i in range(len(state_name_list))} \n",
    "# for key, value in df_dict[name.items() :\n",
    "#      pd.DataFrame.from_dict(df_dict,index=state_name_list )\n",
    "# for key in df_dict.keys():\n",
    "#      pd.DataFrame.from_dict(df_dict, orient='index')\n",
    "    "
   ]
  },
  {
   "cell_type": "code",
   "execution_count": 26,
   "metadata": {},
   "outputs": [
    {
     "data": {
      "text/html": [
       "<div>\n",
       "<style scoped>\n",
       "    .dataframe tbody tr th:only-of-type {\n",
       "        vertical-align: middle;\n",
       "    }\n",
       "\n",
       "    .dataframe tbody tr th {\n",
       "        vertical-align: top;\n",
       "    }\n",
       "\n",
       "    .dataframe thead th {\n",
       "        text-align: right;\n",
       "    }\n",
       "</style>\n",
       "<table border=\"1\" class=\"dataframe\">\n",
       "  <thead>\n",
       "    <tr style=\"text-align: right;\">\n",
       "      <th></th>\n",
       "      <th>CaseYear</th>\n",
       "      <th>CrashCounts</th>\n",
       "      <th>TotalFatalCounts</th>\n",
       "    </tr>\n",
       "  </thead>\n",
       "  <tbody>\n",
       "    <tr>\n",
       "      <td>0</td>\n",
       "      <td>2010</td>\n",
       "      <td>2746</td>\n",
       "      <td>3023</td>\n",
       "    </tr>\n",
       "    <tr>\n",
       "      <td>1</td>\n",
       "      <td>2011</td>\n",
       "      <td>2790</td>\n",
       "      <td>3054</td>\n",
       "    </tr>\n",
       "    <tr>\n",
       "      <td>2</td>\n",
       "      <td>2012</td>\n",
       "      <td>3033</td>\n",
       "      <td>3408</td>\n",
       "    </tr>\n",
       "    <tr>\n",
       "      <td>3</td>\n",
       "      <td>2013</td>\n",
       "      <td>3047</td>\n",
       "      <td>3389</td>\n",
       "    </tr>\n",
       "    <tr>\n",
       "      <td>4</td>\n",
       "      <td>2014</td>\n",
       "      <td>3190</td>\n",
       "      <td>3536</td>\n",
       "    </tr>\n",
       "    <tr>\n",
       "      <td>5</td>\n",
       "      <td>2015</td>\n",
       "      <td>3190</td>\n",
       "      <td>3582</td>\n",
       "    </tr>\n",
       "    <tr>\n",
       "      <td>6</td>\n",
       "      <td>2016</td>\n",
       "      <td>3427</td>\n",
       "      <td>3797</td>\n",
       "    </tr>\n",
       "    <tr>\n",
       "      <td>7</td>\n",
       "      <td>2017</td>\n",
       "      <td>3352</td>\n",
       "      <td>3732</td>\n",
       "    </tr>\n",
       "    <tr>\n",
       "      <td>8</td>\n",
       "      <td>2018</td>\n",
       "      <td>3305</td>\n",
       "      <td>3642</td>\n",
       "    </tr>\n",
       "  </tbody>\n",
       "</table>\n",
       "</div>"
      ],
      "text/plain": [
       "  CaseYear  CrashCounts  TotalFatalCounts\n",
       "0     2010         2746              3023\n",
       "1     2011         2790              3054\n",
       "2     2012         3033              3408\n",
       "3     2013         3047              3389\n",
       "4     2014         3190              3536\n",
       "5     2015         3190              3582\n",
       "6     2016         3427              3797\n",
       "7     2017         3352              3732\n",
       "8     2018         3305              3642"
      ]
     },
     "execution_count": 26,
     "metadata": {},
     "output_type": "execute_result"
    }
   ],
   "source": [
    "df_dict\n",
    "\n"
   ]
  },
  {
   "cell_type": "code",
   "execution_count": null,
   "metadata": {},
   "outputs": [],
   "source": []
  },
  {
   "cell_type": "code",
   "execution_count": null,
   "metadata": {},
   "outputs": [],
   "source": []
  }
 ],
 "metadata": {
  "kernelspec": {
   "display_name": "Python 3.7.4 64-bit ('base': conda)",
   "language": "python",
   "name": "python37464bitbasecondabffb7192b95d4d4b82c65d1b674e2a7e"
  },
  "language_info": {
   "codemirror_mode": {
    "name": "ipython",
    "version": 3
   },
   "file_extension": ".py",
   "mimetype": "text/x-python",
   "name": "python",
   "nbconvert_exporter": "python",
   "pygments_lexer": "ipython3",
   "version": "3.7.4"
  }
 },
 "nbformat": 4,
 "nbformat_minor": 2
}
