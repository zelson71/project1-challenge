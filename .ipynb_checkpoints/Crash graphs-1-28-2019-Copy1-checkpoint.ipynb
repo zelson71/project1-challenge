{
 "cells": [
  {
   "cell_type": "code",
   "execution_count": 2,
   "metadata": {},
   "outputs": [],
   "source": [
    "# Dependencies\n",
    "\n",
    "import matplotlib.pyplot as plt\n",
    "import pandas as pd\n",
    "import numpy as np\n",
    "import requests\n",
    "import time\n",
    "from scipy.stats import linregress\n",
    "\n"
   ]
  },
  {
   "cell_type": "code",
   "execution_count": null,
   "metadata": {},
   "outputs": [],
   "source": []
  },
  {
   "cell_type": "code",
   "execution_count": 3,
   "metadata": {},
   "outputs": [
    {
     "data": {
      "text/html": [
       "<div>\n",
       "<style scoped>\n",
       "    .dataframe tbody tr th:only-of-type {\n",
       "        vertical-align: middle;\n",
       "    }\n",
       "\n",
       "    .dataframe tbody tr th {\n",
       "        vertical-align: top;\n",
       "    }\n",
       "\n",
       "    .dataframe thead th {\n",
       "        text-align: right;\n",
       "    }\n",
       "</style>\n",
       "<table border=\"1\" class=\"dataframe\">\n",
       "  <thead>\n",
       "    <tr style=\"text-align: right;\">\n",
       "      <th></th>\n",
       "      <th>Year</th>\n",
       "      <th>Total Smartphones (M)</th>\n",
       "      <th>Total Accidents (M)</th>\n",
       "      <th>Young Drivers (15-20) Accidents (M)</th>\n",
       "      <th>Older Drivers (65+) Accidents (M)</th>\n",
       "      <th>Drivers (21-64) Accidents (M)</th>\n",
       "      <th>Fatalities - All States (K)</th>\n",
       "      <th>California Fatatlities (K)</th>\n",
       "      <th>Colorado Fatalities (K)</th>\n",
       "      <th>New York Fatalities (K)</th>\n",
       "      <th>Washington Fatalities (K)</th>\n",
       "    </tr>\n",
       "  </thead>\n",
       "  <tbody>\n",
       "    <tr>\n",
       "      <td>0</td>\n",
       "      <td>2010</td>\n",
       "      <td>62.60</td>\n",
       "      <td>5.419445</td>\n",
       "      <td>1.210448</td>\n",
       "      <td>0.799867</td>\n",
       "      <td>3.409130</td>\n",
       "      <td>30.296</td>\n",
       "      <td>2504</td>\n",
       "      <td>0.411</td>\n",
       "      <td>1.128</td>\n",
       "      <td>0.422</td>\n",
       "    </tr>\n",
       "    <tr>\n",
       "      <td>1</td>\n",
       "      <td>2011</td>\n",
       "      <td>92.80</td>\n",
       "      <td>5.337829</td>\n",
       "      <td>1.140507</td>\n",
       "      <td>0.766463</td>\n",
       "      <td>3.430859</td>\n",
       "      <td>29.867</td>\n",
       "      <td>2617</td>\n",
       "      <td>0.407</td>\n",
       "      <td>1.093</td>\n",
       "      <td>0.421</td>\n",
       "    </tr>\n",
       "    <tr>\n",
       "      <td>2</td>\n",
       "      <td>2012</td>\n",
       "      <td>122.00</td>\n",
       "      <td>5.615045</td>\n",
       "      <td>1.167260</td>\n",
       "      <td>0.854872</td>\n",
       "      <td>3.592913</td>\n",
       "      <td>31.006</td>\n",
       "      <td>2733</td>\n",
       "      <td>0.434</td>\n",
       "      <td>1.096</td>\n",
       "      <td>0.403</td>\n",
       "    </tr>\n",
       "    <tr>\n",
       "      <td>3</td>\n",
       "      <td>2013</td>\n",
       "      <td>144.50</td>\n",
       "      <td>5.686891</td>\n",
       "      <td>1.185506</td>\n",
       "      <td>0.888951</td>\n",
       "      <td>3.612434</td>\n",
       "      <td>30.202</td>\n",
       "      <td>2860</td>\n",
       "      <td>0.432</td>\n",
       "      <td>1.124</td>\n",
       "      <td>0.401</td>\n",
       "    </tr>\n",
       "    <tr>\n",
       "      <td>4</td>\n",
       "      <td>2014</td>\n",
       "      <td>171.00</td>\n",
       "      <td>6.064284</td>\n",
       "      <td>1.223631</td>\n",
       "      <td>0.937670</td>\n",
       "      <td>3.902983</td>\n",
       "      <td>30.056</td>\n",
       "      <td>2859</td>\n",
       "      <td>0.451</td>\n",
       "      <td>0.980</td>\n",
       "      <td>0.429</td>\n",
       "    </tr>\n",
       "    <tr>\n",
       "      <td>5</td>\n",
       "      <td>2015</td>\n",
       "      <td>190.64</td>\n",
       "      <td>6.296134</td>\n",
       "      <td>1.309092</td>\n",
       "      <td>1.012285</td>\n",
       "      <td>3.974757</td>\n",
       "      <td>32.538</td>\n",
       "      <td>3123</td>\n",
       "      <td>0.507</td>\n",
       "      <td>1.061</td>\n",
       "      <td>0.499</td>\n",
       "    </tr>\n",
       "    <tr>\n",
       "      <td>6</td>\n",
       "      <td>2016</td>\n",
       "      <td>208.61</td>\n",
       "      <td>6.821129</td>\n",
       "      <td>1.408959</td>\n",
       "      <td>1.069190</td>\n",
       "      <td>4.342980</td>\n",
       "      <td>34.748</td>\n",
       "      <td>3540</td>\n",
       "      <td>0.558</td>\n",
       "      <td>9.810</td>\n",
       "      <td>0.504</td>\n",
       "    </tr>\n",
       "    <tr>\n",
       "      <td>7</td>\n",
       "      <td>2017</td>\n",
       "      <td>246.60</td>\n",
       "      <td>6.452598</td>\n",
       "      <td>1.327631</td>\n",
       "      <td>1.066533</td>\n",
       "      <td>4.058434</td>\n",
       "      <td>34.560</td>\n",
       "      <td>3569</td>\n",
       "      <td>0.600</td>\n",
       "      <td>0.939</td>\n",
       "      <td>0.534</td>\n",
       "    </tr>\n",
       "    <tr>\n",
       "      <td>8</td>\n",
       "      <td>2018</td>\n",
       "      <td>257.30</td>\n",
       "      <td>6.734416</td>\n",
       "      <td>1.319180</td>\n",
       "      <td>1.154956</td>\n",
       "      <td>4.260280</td>\n",
       "      <td>33.654</td>\n",
       "      <td>3259</td>\n",
       "      <td>0.588</td>\n",
       "      <td>0.889</td>\n",
       "      <td>0.497</td>\n",
       "    </tr>\n",
       "  </tbody>\n",
       "</table>\n",
       "</div>"
      ],
      "text/plain": [
       "   Year  Total Smartphones (M)  Total Accidents (M)  \\\n",
       "0  2010                  62.60             5.419445   \n",
       "1  2011                  92.80             5.337829   \n",
       "2  2012                 122.00             5.615045   \n",
       "3  2013                 144.50             5.686891   \n",
       "4  2014                 171.00             6.064284   \n",
       "5  2015                 190.64             6.296134   \n",
       "6  2016                 208.61             6.821129   \n",
       "7  2017                 246.60             6.452598   \n",
       "8  2018                 257.30             6.734416   \n",
       "\n",
       "   Young Drivers (15-20) Accidents (M)  Older Drivers (65+) Accidents (M)  \\\n",
       "0                             1.210448                           0.799867   \n",
       "1                             1.140507                           0.766463   \n",
       "2                             1.167260                           0.854872   \n",
       "3                             1.185506                           0.888951   \n",
       "4                             1.223631                           0.937670   \n",
       "5                             1.309092                           1.012285   \n",
       "6                             1.408959                           1.069190   \n",
       "7                             1.327631                           1.066533   \n",
       "8                             1.319180                           1.154956   \n",
       "\n",
       "   Drivers (21-64) Accidents (M)  Fatalities - All States (K)  \\\n",
       "0                       3.409130                       30.296   \n",
       "1                       3.430859                       29.867   \n",
       "2                       3.592913                       31.006   \n",
       "3                       3.612434                       30.202   \n",
       "4                       3.902983                       30.056   \n",
       "5                       3.974757                       32.538   \n",
       "6                       4.342980                       34.748   \n",
       "7                       4.058434                       34.560   \n",
       "8                       4.260280                       33.654   \n",
       "\n",
       "   California Fatatlities (K)  Colorado Fatalities (K)  \\\n",
       "0                        2504                    0.411   \n",
       "1                        2617                    0.407   \n",
       "2                        2733                    0.434   \n",
       "3                        2860                    0.432   \n",
       "4                        2859                    0.451   \n",
       "5                        3123                    0.507   \n",
       "6                        3540                    0.558   \n",
       "7                        3569                    0.600   \n",
       "8                        3259                    0.588   \n",
       "\n",
       "   New York Fatalities (K)  Washington Fatalities (K)  \n",
       "0                    1.128                      0.422  \n",
       "1                    1.093                      0.421  \n",
       "2                    1.096                      0.403  \n",
       "3                    1.124                      0.401  \n",
       "4                    0.980                      0.429  \n",
       "5                    1.061                      0.499  \n",
       "6                    9.810                      0.504  \n",
       "7                    0.939                      0.534  \n",
       "8                    0.889                      0.497  "
      ]
     },
     "execution_count": 3,
     "metadata": {},
     "output_type": "execute_result"
    }
   ],
   "source": [
    "graph_data_df=pd.DataFrame({\n",
    "    \"Year\": [\"2010\", \"2011\", \"2012\", \"2013\", \"2014\", \"2015\", \"2016\", \"2017\", \"2018\"],\n",
    "    \"Total Smartphones (M)\": [62.6, 92.8, 122, 144.5, 171.0, 190.64, 208.61, 246.6, 257.3],\n",
    "    \"Total Accidents (M)\": [5.419445, 5.337829, 5.615045, 5.686891, 6.064284, 6.296134, 6.821129, 6.452598, 6.734416],\n",
    "    \"Young Drivers (15-20) Accidents (M)\": [1.210448, 1.140507, 1.167260, 1.185506, 1.223631, 1.309092, 1.408959, 1.327631, 1.319180],\n",
    "    \"Older Drivers (65+) Accidents (M)\": [.799867, .766463, .854872, .888951, .937670, 1.012285, 1.069190, 1.066533, 1.154956],\n",
    "    \"Drivers (21-64) Accidents (M)\": [3.409130, 3.430859, 3.592913, 3.612434, 3.902983, 3.974757, 4.342980, 4.058434, 4.260280],\n",
    "    \"Fatalities - All States (K)\": [30.296, 29.867, 31.006, 30.202, 30.056, 32.538, 34.748, 34.560, 33.654],\n",
    "    \"California Fatatlities (K)\": [2504, 2617, 2733, 2860, 2859, 3123, 3540, 3569, 3259],\n",
    "    \"Colorado Fatalities (K)\": [.411, .407, .434, .432, .451, .507, .558, .600, .588],\n",
    "    \"New York Fatalities (K)\": [1.128, 1.093, 1.096, 1.124, .980, 1.061, 9.81, .939, .889],\n",
    "    \"Washington Fatalities (K)\": [.422, .421, .403, .401, .429, .499, .504, .534, .497]\n",
    "})\n",
    "\n",
    "\n",
    "graph_data_df"
   ]
  },
  {
   "cell_type": "code",
   "execution_count": 5,
   "metadata": {},
   "outputs": [
    {
     "name": "stdout",
     "output_type": "stream",
     "text": [
      "The r-squared is 0.9287296173313823\n"
     ]
    },
    {
     "data": {
      "image/png": "[encoded data removed]",
      "text/plain": [
       "<Figure size 432x288 with 1 Axes>"
      ]
     },
     "metadata": {
      "needs_background": "light"
     },
     "output_type": "display_data"
    },
    {
     "name": "stdout",
     "output_type": "stream",
     "text": [
      "The slope is: 0.007787047912860179\n"
     ]
    }
   ],
   "source": [
    "## Convert to floats and store as x and y values\n",
    "y_values= graph_data_df['Total Accidents (M)'].astype('float')\n",
    "x_values = graph_data_df['Total Smartphones (M)'].astype('float')\n",
    "\n",
    "# Run linear regression\n",
    "(slope, intercept, rvalue, pvalue, stderr) = linregress(x_values, y_values)\n",
    "regress_values = x_values * slope + intercept\n",
    "line_eq = \"y = \" + str(round(slope,2)) + \"x + \" + str(round(intercept,2))\n",
    "\n",
    "# Plot scatter plot\n",
    "plt.scatter(x_values,y_values)\n",
    "\n",
    "# Plot regression line\n",
    "plt.plot(x_values,regress_values,\"r-\")\n",
    "plt.annotate(line_eq,(2,2),fontsize=2,color=\"red\", alpha=0.75)\n",
    "\n",
    "# Label plot\n",
    "plt.xlabel('Total Smartphones (M)')\n",
    "plt.ylabel('Total Accidents (M)')\n",
    "plt.title('Total Accidents versus Total Smartphones')\n",
    "\n",
    "# Print r square value\n",
    "print(f\"The r-squared is {rvalue}\")\n",
    "\n",
    "# Save and show plot\n",
    "plt.grid()\n",
    "plt.savefig('output_data/accidents vs smartphones.png')\n",
    "plt.show()\n",
    "print(f\"The slope is: {slope}\")"
   ]
  },
  {
   "cell_type": "code",
   "execution_count": 7,
   "metadata": {},
   "outputs": [
    {
     "name": "stdout",
     "output_type": "stream",
     "text": [
      "The r-squared is 0.786497537040003\n"
     ]
    },
    {
     "data": {
      "image/png": "[encoded data removed]",
      "text/plain": [
       "<Figure size 432x288 with 1 Axes>"
      ]
     },
     "metadata": {
      "needs_background": "light"
     },
     "output_type": "display_data"
    },
    {
     "name": "stdout",
     "output_type": "stream",
     "text": [
      "The slope is: 0.0010578092489992477\n"
     ]
    }
   ],
   "source": [
    "## Convert to floats and store as x and y values\n",
    "y_values  = graph_data_df['Young Drivers (15-20) Accidents (M)'].astype('float')\n",
    "x_values = graph_data_df['Total Smartphones (M)'].astype('float')\n",
    "\n",
    "# Run linear regression\n",
    "(slope, intercept, rvalue, pvalue, stderr) = linregress(x_values, y_values)\n",
    "regress_values = x_values * slope + intercept\n",
    "line_eq = \"y = \" + str(round(slope,2)) + \"x + \" + str(round(intercept,2))\n",
    "\n",
    "# Plot scatter plot\n",
    "plt.scatter(x_values,y_values)\n",
    "\n",
    "# Plot regression line\n",
    "plt.plot(x_values,regress_values,\"r-\")\n",
    "plt.annotate(line_eq,(2,2),fontsize=2,color=\"red\", alpha=0.75)\n",
    "\n",
    "# Label plot\n",
    "plt.xlabel('Total Smartphones (M)')\n",
    "plt.ylabel('Young Drivers (15-20) Accidents (M)')\n",
    "plt.title('Young Drivers (15-20) Accidents versus Total Smartphones')\n",
    "\n",
    "# Print r square value\n",
    "print(f\"The r-squared is {rvalue}\")\n",
    "\n",
    "# Save and show plot\n",
    "plt.grid()\n",
    "plt.savefig('output_data/young_accidents vs smartsphones.png')\n",
    "plt.show()\n",
    "print(f\"The slope is: {slope}\")"
   ]
  },
  {
   "cell_type": "code",
   "execution_count": 8,
   "metadata": {},
   "outputs": [
    {
     "name": "stdout",
     "output_type": "stream",
     "text": [
      "The r-squared is 0.9675144281729129\n"
     ]
    },
    {
     "data": {
      "image/png": "[encoded data removed]",
      "text/plain": [
       "<Figure size 432x288 with 1 Axes>"
      ]
     },
     "metadata": {
      "needs_background": "light"
     },
     "output_type": "display_data"
    },
    {
     "name": "stdout",
     "output_type": "stream",
     "text": [
      "The slope is: 0.001934467567565732\n"
     ]
    }
   ],
   "source": [
    "## Convert to floats and store as x and y values\n",
    "y_values = graph_data_df['Older Drivers (65+) Accidents (M)'].astype('float')\n",
    "x_values = graph_data_df['Total Smartphones (M)'].astype('float')\n",
    "\n",
    "# Run linear regression\n",
    "(slope, intercept, rvalue, pvalue, stderr) = linregress(x_values, y_values)\n",
    "regress_values = x_values * slope + intercept\n",
    "line_eq = \"y = \" + str(round(slope,2)) + \"x + \" + str(round(intercept,2))\n",
    "\n",
    "# Plot scatter plot\n",
    "plt.scatter(x_values,y_values)\n",
    "\n",
    "# Plot regression line\n",
    "plt.plot(x_values,regress_values,\"r-\")\n",
    "plt.annotate(line_eq,(2,2),fontsize=2,color=\"red\", alpha=0.75)\n",
    "\n",
    "# Label plot\n",
    "plt.xlabel('Total Smartphones (M)')\n",
    "plt.ylabel('Older Drivers (65+) Accidents (M)')\n",
    "plt.title('Older Drivers (65+) Accidents versus Total Smartphones')\n",
    "\n",
    "# Print r square value\n",
    "print(f\"The r-squared is {rvalue}\")\n",
    "\n",
    "# Save and show plot\n",
    "plt.grid()\n",
    "plt.savefig('output_data/old_accidents vs smartsphones.png')\n",
    "plt.show()\n",
    "print(f\"The slope is: {slope}\")\n"
   ]
  },
  {
   "cell_type": "code",
   "execution_count": 9,
   "metadata": {},
   "outputs": [
    {
     "name": "stdout",
     "output_type": "stream",
     "text": [
      "The r-squared is 0.9224480921620757\n"
     ]
    },
    {
     "data": {
      "image/png": "[encoded data removed]",
      "text/plain": [
       "<Figure size 432x288 with 1 Axes>"
      ]
     },
     "metadata": {
      "needs_background": "light"
     },
     "output_type": "display_data"
    },
    {
     "name": "stdout",
     "output_type": "stream",
     "text": [
      "The slope is: 0.004794771096295197\n"
     ]
    }
   ],
   "source": [
    "## Convert to floats and store as x and y values\n",
    "y_values = graph_data_df['Drivers (21-64) Accidents (M)'].astype('float')\n",
    "x_values= graph_data_df['Total Smartphones (M)'].astype('float')\n",
    "\n",
    "# Run linear regression\n",
    "(slope, intercept, rvalue, pvalue, stderr) = linregress(x_values, y_values)\n",
    "regress_values = x_values * slope + intercept\n",
    "line_eq = \"y = \" + str(round(slope,2)) + \"x + \" + str(round(intercept,2))\n",
    "\n",
    "# Plot scatter plot\n",
    "plt.scatter(x_values,y_values)\n",
    "\n",
    "# Plot regression line\n",
    "plt.plot(x_values,regress_values,\"r-\")\n",
    "plt.annotate(line_eq,(2,2),fontsize=2,color=\"red\", alpha=0.75)\n",
    "\n",
    "# Label plot\n",
    "plt.xlabel('Total Smartphones (M)')\n",
    "plt.ylabel('Drivers (21-64) Accidents (M)')\n",
    "plt.title('Drivers (21-64) Accidents versus Total Smartphones')\n",
    "\n",
    "# Print r square value\n",
    "print(f\"The r-squared is {rvalue}\")\n",
    "\n",
    "# Save and show plot\n",
    "plt.grid()\n",
    "plt.savefig('output_data/21_64_accidents vs smartsphones.png')\n",
    "plt.show()\n",
    "print(f\"The slope is: {slope}\")"
   ]
  }
 ],
 "metadata": {
  "kernelspec": {
   "display_name": "Python 3",
   "language": "python",
   "name": "python3"
  },
  "language_info": {
   "codemirror_mode": {
    "name": "ipython",
    "version": 3
   },
   "file_extension": ".py",
   "mimetype": "text/x-python",
   "name": "python",
   "nbconvert_exporter": "python",
   "pygments_lexer": "ipython3",
   "version": "3.7.4"
  }
 },
 "nbformat": 4,
 "nbformat_minor": 2
}
