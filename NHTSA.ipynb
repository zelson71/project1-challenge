{
 "cells": [
  {
   "cell_type": "code",
   "execution_count": 1,
   "metadata": {},
   "outputs": [],
   "source": [
    "import json\n",
    "import pandas as pd\n",
    "import matplotlib as plt\n",
    "import statistics as st\n",
    "import time\n",
    "import urllib.parse\n",
    "from pprint import pprint\n",
    "import requests"
   ]
  },
  {
   "cell_type": "code",
   "execution_count": 8,
   "metadata": {},
   "outputs": [],
   "source": [
    "base_url = \"https://crashviewer.nhtsa.dot.gov/CrashAPI\"\n",
    "# search_url = \"/crashes/GetCaseList?states=1,51&fromYear=2014&toYear=2015&minNumOfVehicles=1&maxNumOfVehicles=6&format=json\"\n",
    "# url_final = base_url + search_url"
   ]
  },
  {
   "cell_type": "code",
   "execution_count": 3,
   "metadata": {},
   "outputs": [],
   "source": [
    "# response = requests.get(url_final).json()\n",
    "# #data=json.dumps(response)\n",
    "# pprint(response['Results'][0][2])"
   ]
  },
  {
   "cell_type": "code",
   "execution_count": 4,
   "metadata": {},
   "outputs": [],
   "source": [
    "# details = \"/crashes/GetCaseDetails?stateCase=10003&caseYear=2014&state=1&format=json\"\n",
    "# detail_crash = base_url+details\n",
    "# detail_response = requests.get(detail_crash).json()\n",
    "\n",
    "# pprint(detail_response['Results'][0][0]['CrashResultSet']['Vehicles'][0])"
   ]
  },
  {
   "cell_type": "code",
   "execution_count": 9,
   "metadata": {},
   "outputs": [],
   "source": [
    "FARS_Data = \"/FARSData/GetFARSData?dataset=DISTRACT&caseYear=2012&format=json\"\n",
    "crashdata = base_url+FARS_Data\n",
    "crash_response = requests.get(crashdata).json()\n"
   ]
  },
  {
   "cell_type": "code",
   "execution_count": 10,
   "metadata": {},
   "outputs": [],
   "source": [
    "st_name = []\n",
    "dist = []\n",
    "case = []\n",
    "veh_num =[]\n",
    "\n",
    "crash = crash_response['Results'][0]\n",
    "\n",
    "len(crash)\n",
    "datacollection = []\n",
    "for num in crash:\n",
    "    \n",
    "        st_name.append(num['STATENAME'])\n",
    "        dist.append(num['MDRDSTRDNAME'])\n",
    "        case.append(num['ST_CASE'])\n",
    "        veh_num.append(num['VEH_NO'])"
   ]
  },
  {
   "cell_type": "code",
   "execution_count": 37,
   "metadata": {},
   "outputs": [
    {
     "name": "stdout",
     "output_type": "stream",
     "text": [
      "52296\n",
      "52296\n",
      "52296\n",
      "52296\n"
     ]
    }
   ],
   "source": [
    "print(len(dist))\n",
    "print(len(st_name))\n",
    "print(len(case))\n",
    "print(len(veh_num))\n",
    "dataframe2012 = pd.DataFrame({\"State\":st_name,\n",
    "                          \"Case_#\":case,\n",
    "                         \"Distracted\":dist})\n",
    "                         #\"Number of Vehicles involved\":veh_num})\n",
    "dataframe2012\n",
    "dataframe2012.to_csv(\"Output/2012.csv\",index = None, header=True)"
   ]
  },
  {
   "cell_type": "code",
   "execution_count": 12,
   "metadata": {},
   "outputs": [],
   "source": [
    "FARS_Data = \"/FARSData/GetFARSData?dataset=DISTRACT&caseYear=2013&format=json\"\n",
    "crashdata = base_url+FARS_Data\n",
    "crash_response = requests.get(crashdata).json()"
   ]
  },
  {
   "cell_type": "code",
   "execution_count": 13,
   "metadata": {},
   "outputs": [],
   "source": [
    "st_name = []\n",
    "dist = []\n",
    "case = []\n",
    "veh_num =[]\n",
    "\n",
    "crash = crash_response['Results'][0]\n",
    "\n",
    "len(crash)\n",
    "datacollection = []\n",
    "for num in crash:\n",
    "    \n",
    "        st_name.append(num['STATENAME'])\n",
    "        dist.append(num['MDRDSTRDNAME'])\n",
    "        case.append(num['ST_CASE'])\n",
    "        veh_num.append(num['VEH_NO'])"
   ]
  },
  {
   "cell_type": "code",
   "execution_count": 38,
   "metadata": {},
   "outputs": [
    {
     "name": "stdout",
     "output_type": "stream",
     "text": [
      "52296\n",
      "52296\n",
      "52296\n",
      "52296\n"
     ]
    }
   ],
   "source": [
    "print(len(dist))\n",
    "print(len(st_name))\n",
    "print(len(case))\n",
    "print(len(veh_num))\n",
    "dataframe2013 = pd.DataFrame({\"State\":st_name,\n",
    "                          \"Case_#\":case,\n",
    "                         \"Distracted\":dist})\n",
    "                         #\"Number of Vehicles involved\":veh_num})\n",
    "dataframe2013\n",
    "dataframe2013.to_csv(\"Output/2013.csv\",index = None, header=True)"
   ]
  },
  {
   "cell_type": "code",
   "execution_count": 15,
   "metadata": {},
   "outputs": [],
   "source": [
    "FARS_Data = \"/FARSData/GetFARSData?dataset=DISTRACT&caseYear=2014&format=json\"\n",
    "crashdata = base_url+FARS_Data\n",
    "crash_response = requests.get(crashdata).json()\n"
   ]
  },
  {
   "cell_type": "code",
   "execution_count": 16,
   "metadata": {},
   "outputs": [],
   "source": [
    "#pprint(crash_response['Results'][0])"
   ]
  },
  {
   "cell_type": "code",
   "execution_count": 17,
   "metadata": {},
   "outputs": [],
   "source": [
    "st_name = []\n",
    "dist = []\n",
    "case = []\n",
    "veh_num =[]\n",
    "len(crash_response['Results'][0])\n",
    "crash = crash_response['Results'][0]\n",
    "\n",
    "len(crash)\n",
    "datacollection = []\n",
    "for num in crash:\n",
    "    \n",
    "        st_name.append(num['STATENAME'])\n",
    "        dist.append(num['MDRDSTRDNAME'])\n",
    "        case.append(num['ST_CASE'])\n",
    "        veh_num.append(num['VEH_NO'])\n",
    "    \n",
    "#     st_name.append([each]['STATENAME'])\n",
    "#     dist.append(crash['MDRDSTRDNAME'])\n",
    "#     case.append(crash['ST_CASE'])\n",
    "#     veh_num.append(crash['VEH_NO'])"
   ]
  },
  {
   "cell_type": "code",
   "execution_count": 39,
   "metadata": {},
   "outputs": [
    {
     "name": "stdout",
     "output_type": "stream",
     "text": [
      "52296\n",
      "52296\n",
      "52296\n",
      "52296\n"
     ]
    }
   ],
   "source": [
    "print(len(dist))\n",
    "print(len(st_name))\n",
    "print(len(case))\n",
    "print(len(veh_num))\n",
    "dataframe2014 = pd.DataFrame({\"State\":st_name,\n",
    "                          \"Case_#\":case,\n",
    "                         \"Distracted\":dist})\n",
    "                         #\"Number of Vehicles involved\":veh_num})\n",
    "dataframe2014\n",
    "dataframe2014.to_csv(\"Output/2014.csv\",index = None, header=True)"
   ]
  },
  {
   "cell_type": "code",
   "execution_count": 19,
   "metadata": {},
   "outputs": [],
   "source": [
    "FARS_Data = \"/FARSData/GetFARSData?dataset=DISTRACT&caseYear=2015&format=json\"\n",
    "crashdata = base_url+FARS_Data\n",
    "crash_response = requests.get(crashdata).json()\n"
   ]
  },
  {
   "cell_type": "code",
   "execution_count": 20,
   "metadata": {},
   "outputs": [],
   "source": [
    "st_name = []\n",
    "dist = []\n",
    "case = []\n",
    "veh_num =[]\n",
    "len(crash_response['Results'][0])\n",
    "crash = crash_response['Results'][0]\n",
    "\n",
    "len(crash)\n",
    "datacollection = []\n",
    "for num in crash:\n",
    "    \n",
    "        st_name.append(num['STATENAME'])\n",
    "        dist.append(num['MDRDSTRDNAME'])\n",
    "        case.append(num['ST_CASE'])\n",
    "        veh_num.append(num['VEH_NO'])"
   ]
  },
  {
   "cell_type": "code",
   "execution_count": 40,
   "metadata": {},
   "outputs": [
    {
     "name": "stdout",
     "output_type": "stream",
     "text": [
      "52296\n",
      "52296\n",
      "52296\n",
      "52296\n"
     ]
    }
   ],
   "source": [
    "print(len(dist))\n",
    "print(len(st_name))\n",
    "print(len(case))\n",
    "print(len(veh_num))\n",
    "dataframe2015 = pd.DataFrame({\"State\":st_name,\n",
    "                          \"Case_#\":case,\n",
    "                         \"Distracted\":dist})\n",
    "                         #\"Number of Vehicles involved\":veh_num})\n",
    "dataframe2015\n",
    "dataframe2015.to_csv(\"Output/2015.csv\",index = None, header=True)"
   ]
  },
  {
   "cell_type": "code",
   "execution_count": 22,
   "metadata": {},
   "outputs": [],
   "source": [
    "FARS_Data = \"/FARSData/GetFARSData?dataset=DISTRACT&caseYear=2016&format=json\"\n",
    "crashdata = base_url+FARS_Data\n",
    "crash_response = requests.get(crashdata).json()"
   ]
  },
  {
   "cell_type": "code",
   "execution_count": 23,
   "metadata": {},
   "outputs": [],
   "source": [
    "st_name = []\n",
    "dist = []\n",
    "case = []\n",
    "veh_num =[]\n",
    "len(crash_response['Results'][0])\n",
    "crash = crash_response['Results'][0]\n",
    "\n",
    "len(crash)\n",
    "datacollection = []\n",
    "for num in crash:\n",
    "    \n",
    "        st_name.append(num['STATENAME'])\n",
    "        dist.append(num['MDRDSTRDNAME'])\n",
    "        case.append(num['ST_CASE'])\n",
    "        veh_num.append(num['VEH_NO'])"
   ]
  },
  {
   "cell_type": "code",
   "execution_count": 41,
   "metadata": {},
   "outputs": [
    {
     "name": "stdout",
     "output_type": "stream",
     "text": [
      "52296\n",
      "52296\n",
      "52296\n",
      "52296\n"
     ]
    }
   ],
   "source": [
    "print(len(dist))\n",
    "print(len(st_name))\n",
    "print(len(case))\n",
    "print(len(veh_num))\n",
    "dataframe2016 = pd.DataFrame({\"State\":st_name,\n",
    "                          \"Case_#\":case,\n",
    "                         \"Distracted\":dist})\n",
    "                         #\"Number of Vehicles involved\":veh_num})\n",
    "dataframe2016\n",
    "dataframe2016.to_csv(\"Output/2016.csv\",index = None, header=True)"
   ]
  },
  {
   "cell_type": "code",
   "execution_count": 25,
   "metadata": {},
   "outputs": [],
   "source": [
    "FARS_Data = \"/FARSData/GetFARSData?dataset=DISTRACT&caseYear=2017&format=json\"\n",
    "crashdata = base_url+FARS_Data\n",
    "crash_response = requests.get(crashdata).json()"
   ]
  },
  {
   "cell_type": "code",
   "execution_count": 26,
   "metadata": {},
   "outputs": [],
   "source": [
    "st_name = []\n",
    "dist = []\n",
    "case = []\n",
    "veh_num =[]\n",
    "len(crash_response['Results'][0])\n",
    "crash = crash_response['Results'][0]\n",
    "\n",
    "len(crash)\n",
    "datacollection = []\n",
    "for num in crash:\n",
    "    \n",
    "        st_name.append(num['STATENAME'])\n",
    "        dist.append(num['MDRDSTRDNAME'])\n",
    "        case.append(num['ST_CASE'])\n",
    "        veh_num.append(num['VEH_NO'])"
   ]
  },
  {
   "cell_type": "code",
   "execution_count": 42,
   "metadata": {},
   "outputs": [
    {
     "name": "stdout",
     "output_type": "stream",
     "text": [
      "52296\n",
      "52296\n",
      "52296\n",
      "52296\n"
     ]
    }
   ],
   "source": [
    "print(len(dist))\n",
    "print(len(st_name))\n",
    "print(len(case))\n",
    "print(len(veh_num))\n",
    "dataframe2017 = pd.DataFrame({\"State\":st_name,\n",
    "                          \"Case_#\":case,\n",
    "                         \"Distracted\":dist})\n",
    "                         #\"Number of Vehicles involved\":veh_num})\n",
    "dataframe2017\n",
    "dataframe2017.to_csv(\"Output/2017.csv\",index = None, header=True)"
   ]
  },
  {
   "cell_type": "code",
   "execution_count": 28,
   "metadata": {},
   "outputs": [],
   "source": [
    "FARS_Data = \"/FARSData/GetFARSData?dataset=DISTRACT&caseYear=2018&format=json\"\n",
    "crashdata = base_url+FARS_Data\n",
    "crash_response = requests.get(crashdata).json()"
   ]
  },
  {
   "cell_type": "code",
   "execution_count": 29,
   "metadata": {},
   "outputs": [],
   "source": [
    "st_name = []\n",
    "dist = []\n",
    "case = []\n",
    "veh_num =[]\n",
    "len(crash_response['Results'][0])\n",
    "crash = crash_response['Results'][0]\n",
    "\n",
    "len(crash)\n",
    "datacollection = []\n",
    "for num in crash:\n",
    "    \n",
    "        st_name.append(num['STATENAME'])\n",
    "        dist.append(num['MDRDSTRDNAME'])\n",
    "        case.append(num['ST_CASE'])\n",
    "        veh_num.append(num['VEH_NO'])"
   ]
  },
  {
   "cell_type": "code",
   "execution_count": 43,
   "metadata": {},
   "outputs": [
    {
     "name": "stdout",
     "output_type": "stream",
     "text": [
      "52296\n",
      "52296\n",
      "52296\n",
      "52296\n"
     ]
    }
   ],
   "source": [
    "print(len(dist))\n",
    "print(len(st_name))\n",
    "print(len(case))\n",
    "print(len(veh_num))\n",
    "dataframe2018 = pd.DataFrame({\"State\":st_name,\n",
    "                          \"Case_#\":case,\n",
    "                         \"Distracted\":dist})\n",
    "                         #\"Number of Vehicles involved\":veh_num})\n",
    "dataframe2018\n",
    "dataframe2018.to_csv(\"Output/2018.csv\",index = None, header=True)"
   ]
  },
  {
   "cell_type": "code",
   "execution_count": 31,
   "metadata": {},
   "outputs": [],
   "source": [
    "FARS_Data = \"/FARSData/GetFARSData?dataset=DISTRACT&caseYear=2019&format=json\"\n",
    "crashdata = base_url+FARS_Data\n",
    "crash_response = requests.get(crashdata).json()"
   ]
  },
  {
   "cell_type": "code",
   "execution_count": 32,
   "metadata": {},
   "outputs": [
    {
     "name": "stdout",
     "output_type": "stream",
     "text": [
      "{'Count': 0, 'Message': 'No data found', 'Results': [[]], 'SearchCriteria': 'DataYear: 2019'}\n"
     ]
    }
   ],
   "source": [
    "print(crash_response)"
   ]
  },
  {
   "cell_type": "code",
   "execution_count": null,
   "metadata": {},
   "outputs": [],
   "source": []
  }
 ],
 "metadata": {
  "kernelspec": {
   "display_name": "Python 3",
   "language": "python",
   "name": "python3"
  },
  "language_info": {
   "codemirror_mode": {
    "name": "ipython",
    "version": 3
   },
   "file_extension": ".py",
   "mimetype": "text/x-python",
   "name": "python",
   "nbconvert_exporter": "python",
   "pygments_lexer": "ipython3",
   "version": "3.7.4"
  }
 },
 "nbformat": 4,
 "nbformat_minor": 2
}
