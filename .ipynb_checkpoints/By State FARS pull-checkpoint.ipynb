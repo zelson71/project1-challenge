{
 "cells": [
  {
   "cell_type": "code",
   "execution_count": 1,
   "metadata": {},
   "outputs": [],
   "source": [
    "import json\n",
    "import csv\n"
   ]
  },
  {
   "cell_type": "code",
   "execution_count": 2,
   "metadata": {},
   "outputs": [
    {
     "data": {
      "text/plain": [
       "{1: ['Alabama', 'AL'],\n",
       " 2: ['Alaska', 'AK'],\n",
       " 4: ['Arizona', 'AZ'],\n",
       " 5: ['Arkansas', 'AR'],\n",
       " 6: ['California', 'CA'],\n",
       " 8: ['Colorado', 'CO'],\n",
       " 9: ['Conneticut', 'CT'],\n",
       " 10: ['Delaware', 'DE'],\n",
       " 11: ['District of Columbia', 'DC'],\n",
       " 12: ['Florida', 'FL'],\n",
       " 13: ['Georgia', 'GA'],\n",
       " 15: ['Hawaii', 'HI'],\n",
       " 16: ['Idaho', 'ID'],\n",
       " 17: ['Illinois', 'IL'],\n",
       " 18: ['Indiana', 'IN'],\n",
       " 19: ['Iowa', 'IA'],\n",
       " 20: ['Kansas', 'KS'],\n",
       " 21: ['Kentucky', 'KY'],\n",
       " 22: ['Louisiana', 'LA'],\n",
       " 23: ['Maine', 'ME'],\n",
       " 24: ['Maryland', 'MD'],\n",
       " 25: ['Massachusetts', 'MA'],\n",
       " 26: ['Michigan', 'MI'],\n",
       " 27: ['Minnesota', 'MN'],\n",
       " 28: ['Mississippi', 'MS'],\n",
       " 29: ['Missouri', 'MO'],\n",
       " 30: ['Montana', 'MT'],\n",
       " 31: ['Nebraska', 'NB'],\n",
       " 32: ['Nevada', 'NV'],\n",
       " 33: ['New Hampshire', 'NH'],\n",
       " 34: ['New Jersey', ['NJ']],\n",
       " 35: ['New Mexico', 'NM'],\n",
       " 36: ['New York', 'NY'],\n",
       " 37: ['North Carolina', 'NC'],\n",
       " 38: ['North Dakota', 'ND'],\n",
       " 39: ['Ohio', 'OH'],\n",
       " 40: ['Oklahoma', 'OK'],\n",
       " 41: ['Oregon', 'OR'],\n",
       " 42: ['Pennsylvania', 'PA'],\n",
       " 43: 'Puerto Rico',\n",
       " 44: ['Rhode Island', 'RI'],\n",
       " 45: ['South Carolina', 'SC'],\n",
       " 46: ['South Dakota', 'SD'],\n",
       " 47: ['Tennessee', 'TN'],\n",
       " 48: ['Texas', 'TX'],\n",
       " 49: ['Utah', 'UT'],\n",
       " 50: ['Vermont', 'VT'],\n",
       " 51: ['Virginia', 'VA'],\n",
       " 52: 'Virgin Islands',\n",
       " 53: ['Washington', 'WA'],\n",
       " 54: ['West Virginia', 'WV'],\n",
       " 55: ['Wisconsin', 'WI'],\n",
       " 56: ['Wyoming', 'WY']}"
      ]
     },
     "execution_count": 2,
     "metadata": {},
     "output_type": "execute_result"
    }
   ],
   "source": [
    "state_id = {1:[\"Alabama\",\"AL\"],\n",
    "            2:[\"Alaska\",\"AK\"],\n",
    "            4:[\"Arizona\",\"AZ\"],\n",
    "            5:[\"Arkansas\",\"AR\"],\n",
    "            6:[\"California\",\"CA\"],\n",
    "            8:[\"Colorado\",\"CO\"],\n",
    "            9:[\"Conneticut\",\"CT\"],\n",
    "            10:[\"Delaware\", \"DE\"],\n",
    "            11:[\"District of Columbia\",\"DC\"],\n",
    "            12:[\"Florida\",\"FL\"],\n",
    "            13:[\"Georgia\", \"GA\"],\n",
    "            15:[\"Hawaii\",\"HI\"],\n",
    "            16:[\"Idaho\",\"ID\"],\n",
    "            17:[\"Illinois\",\"IL\"],\n",
    "            18:[\"Indiana\",\"IN\"],\n",
    "            19:[\"Iowa\", \"IA\"],\n",
    "            20:[\"Kansas\", \"KS\"],\n",
    "            21:[\"Kentucky\",\"KY\"],\n",
    "            22:[\"Louisiana\",\"LA\"],\n",
    "            23:[\"Maine\",\"ME\"],\n",
    "            24:[\"Maryland\",\"MD\"],\n",
    "            25:[\"Massachusetts\",\"MA\"],\n",
    "            26:[\"Michigan\",\"MI\"],\n",
    "            27:[\"Minnesota\",\"MN\"],\n",
    "            28:[\"Mississippi\",\"MS\"],\n",
    "            29:[\"Missouri\",\"MO\"],\n",
    "            30:[\"Montana\",\"MT\"],\n",
    "            31:[\"Nebraska\",\"NB\"],\n",
    "            32:[\"Nevada\",\"NV\"],\n",
    "            33:[\"New Hampshire\",\"NH\"],\n",
    "            34:[\"New Jersey\",[\"NJ\"]],\n",
    "            35:[\"New Mexico\",\"NM\"],\n",
    "            36:[\"New York\",\"NY\"],\n",
    "            37:[\"North Carolina\",\"NC\"],\n",
    "            38:[\"North Dakota\",\"ND\"],\n",
    "            39:[\"Ohio\",\"OH\"],\n",
    "            40:[\"Oklahoma\",\"OK\"],\n",
    "            41:[\"Oregon\",\"OR\"],\n",
    "            42:[\"Pennsylvania\",\"PA\"],\n",
    "            43:\"Puerto Rico\",\n",
    "            44:[\"Rhode Island\",\"RI\"],\n",
    "            45:[\"South Carolina\",\"SC\"],\n",
    "            46:[\"South Dakota\",\"SD\"],\n",
    "            47:[\"Tennessee\",\"TN\"],\n",
    "            48:[\"Texas\",\"TX\"],\n",
    "            49:[\"Utah\",\"UT\"],\n",
    "            50:[\"Vermont\",\"VT\"],\n",
    "            51:[\"Virginia\",\"VA\"],\n",
    "            52:\"Virgin Islands\",\n",
    "            53:[\"Washington\", \"WA\"],\n",
    "            54:[\"West Virginia\",\"WV\"],\n",
    "            55:[\"Wisconsin\",\"WI\"],\n",
    "            56:[\"Wyoming\",\"WY\"]}\n",
    "state_id"
   ]
  },
  {
   "cell_type": "code",
   "execution_count": null,
   "metadata": {},
   "outputs": [],
   "source": [
    "inquiry = input(\"Please input the state you are interested in getting Data for by Name or code (ex : CO for Colorado).   \")"
   ]
  },
  {
   "cell_type": "code",
   "execution_count": null,
   "metadata": {},
   "outputs": [],
   "source": [
    "def state_key(val,source): \n",
    "    for key, value in state_id.items(): \n",
    "         if val == value: \n",
    "             return key \n",
    "  \n",
    "    return \"key doesn't exist\"\n",
    "\n",
    "state_num(inquiry)\n",
    "\n",
    "state_num"
   ]
  },
  {
   "cell_type": "code",
   "execution_count": null,
   "metadata": {},
   "outputs": [],
   "source": []
  },
  {
   "cell_type": "code",
   "execution_count": null,
   "metadata": {},
   "outputs": [],
   "source": []
  }
 ],
 "metadata": {
  "kernelspec": {
   "display_name": "Python 3.7.4 64-bit ('base': conda)",
   "language": "python",
   "name": "python37464bitbasecondabffb7192b95d4d4b82c65d1b674e2a7e"
  },
  "language_info": {
   "codemirror_mode": {
    "name": "ipython",
    "version": 3
   },
   "file_extension": ".py",
   "mimetype": "text/x-python",
   "name": "python",
   "nbconvert_exporter": "python",
   "pygments_lexer": "ipython3",
   "version": "3.7.4"
  }
 },
 "nbformat": 4,
 "nbformat_minor": 2
}
